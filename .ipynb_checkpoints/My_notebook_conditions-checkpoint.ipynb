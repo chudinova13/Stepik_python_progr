{
 "cells": [
  {
   "cell_type": "code",
   "execution_count": 1,
   "id": "223d7961",
   "metadata": {},
   "outputs": [
    {
     "name": "stdout",
     "output_type": "stream",
     "text": [
      "7\n"
     ]
    }
   ],
   "source": [
    "a = 4\n",
    "b = 7\n",
    "if a >= b:\n",
    "    print(a)\n",
    "else:\n",
    "    print(b)"
   ]
  },
  {
   "cell_type": "code",
   "execution_count": 2,
   "id": "7ed1e6ea",
   "metadata": {},
   "outputs": [
    {
     "name": "stdout",
     "output_type": "stream",
     "text": [
      "7\n"
     ]
    }
   ],
   "source": [
    "a = 4\n",
    "b = 7\n",
    "m = a\n",
    "if b > m:\n",
    "    m = b\n",
    "print(m)"
   ]
  },
  {
   "cell_type": "code",
   "execution_count": 3,
   "id": "224a16c2",
   "metadata": {},
   "outputs": [
    {
     "name": "stdout",
     "output_type": "stream",
     "text": [
      "5\n",
      "0\n"
     ]
    },
    {
     "ename": "ZeroDivisionError",
     "evalue": "division by zero",
     "output_type": "error",
     "traceback": [
      "\u001b[1;31m---------------------------------------------------------------------------\u001b[0m",
      "\u001b[1;31mZeroDivisionError\u001b[0m                         Traceback (most recent call last)",
      "Cell \u001b[1;32mIn[3], line 3\u001b[0m\n\u001b[0;32m      1\u001b[0m a \u001b[38;5;241m=\u001b[39m \u001b[38;5;28mint\u001b[39m(\u001b[38;5;28minput\u001b[39m())\n\u001b[0;32m      2\u001b[0m b \u001b[38;5;241m=\u001b[39m \u001b[38;5;28mint\u001b[39m(\u001b[38;5;28minput\u001b[39m())\n\u001b[1;32m----> 3\u001b[0m \u001b[38;5;28mprint\u001b[39m(\u001b[43ma\u001b[49m\u001b[43m \u001b[49m\u001b[38;5;241;43m/\u001b[39;49m\u001b[43m \u001b[49m\u001b[43mb\u001b[49m)\n",
      "\u001b[1;31mZeroDivisionError\u001b[0m: division by zero"
     ]
    }
   ],
   "source": [
    "a = int(input())\n",
    "b = int(input())\n",
    "print(a / b)"
   ]
  },
  {
   "cell_type": "code",
   "execution_count": 6,
   "id": "0763b8f6",
   "metadata": {},
   "outputs": [
    {
     "name": "stdout",
     "output_type": "stream",
     "text": [
      "5\n",
      "0\n",
      "Деление невозможно\n",
      "Введите ненулевое значение 2\n",
      "2.5\n"
     ]
    }
   ],
   "source": [
    "a = int(input())\n",
    "b = int(input())\n",
    "if b != 0:\n",
    "    print(a / b)\n",
    "else:\n",
    "    print('Деление невозможно')\n",
    "    b = int(input('Введите ненулевое значение '))\n",
    "    print(a / b)"
   ]
  },
  {
   "cell_type": "code",
   "execution_count": 7,
   "id": "1f0beb69",
   "metadata": {},
   "outputs": [
    {
     "name": "stdout",
     "output_type": "stream",
     "text": [
      "5\n",
      "0\n",
      "Деление невозможно\n",
      "Введите ненулевое значение 4\n",
      "1.25\n"
     ]
    }
   ],
   "source": [
    "a = int(input())\n",
    "b = int(input())\n",
    "if b != 0:\n",
    "    print(a / b)\n",
    "else:\n",
    "    print('Деление невозможно')\n",
    "    b = int(input('Введите ненулевое значение '))\n",
    "    if b == 0:\n",
    "        print('Вы не справились!')\n",
    "    else:\n",
    "        print(a / b)"
   ]
  },
  {
   "cell_type": "code",
   "execution_count": 8,
   "id": "5423fc58",
   "metadata": {},
   "outputs": [
    {
     "name": "stdout",
     "output_type": "stream",
     "text": [
      "7\n",
      "0\n",
      "Деление невозможно\n",
      "Введите ненулевое значение 0\n",
      "Вы не справились!\n"
     ]
    }
   ],
   "source": [
    "a = int(input())\n",
    "b = int(input())\n",
    "if b != 0:\n",
    "    print(a / b)\n",
    "else:\n",
    "    print('Деление невозможно')\n",
    "    b = int(input('Введите ненулевое значение '))\n",
    "    if b == 0:\n",
    "        print('Вы не справились!')\n",
    "    else:\n",
    "        print(a / b)"
   ]
  },
  {
   "cell_type": "code",
   "execution_count": 12,
   "id": "ad488b65",
   "metadata": {},
   "outputs": [
    {
     "name": "stdout",
     "output_type": "stream",
     "text": [
      "7\n",
      "9\n",
      "2\n",
      "Недосып\n"
     ]
    }
   ],
   "source": [
    "A = int(input())\n",
    "B = int(input())\n",
    "H = int(input())\n",
    "if A <= H <= B:\n",
    "    print('Это нормально')\n",
    "elif H < A:\n",
    "    print('Недосып')\n",
    "else:\n",
    "    print('Пересып')"
   ]
  },
  {
   "cell_type": "code",
   "execution_count": 22,
   "id": "588c8774",
   "metadata": {},
   "outputs": [
    {
     "name": "stdout",
     "output_type": "stream",
     "text": [
      "2100\n",
      "Обычный\n"
     ]
    }
   ],
   "source": [
    "year = int(input())\n",
    "c = 400  # Вводим константу вместо числа 400, так как это магическое число\n",
    "if year % 4 == 0 and year % 100 != 0 or year % c == 0:\n",
    "    print('Високосный')\n",
    "else:\n",
    "    print('Обычный')"
   ]
  }
 ],
 "metadata": {
  "kernelspec": {
   "display_name": "Python 3 (ipykernel)",
   "language": "python",
   "name": "python3"
  },
  "language_info": {
   "codemirror_mode": {
    "name": "ipython",
    "version": 3
   },
   "file_extension": ".py",
   "mimetype": "text/x-python",
   "name": "python",
   "nbconvert_exporter": "python",
   "pygments_lexer": "ipython3",
   "version": "3.10.9"
  }
 },
 "nbformat": 4,
 "nbformat_minor": 5
}
